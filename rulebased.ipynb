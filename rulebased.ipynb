{
 "cells": [
  {
   "cell_type": "markdown",
   "id": "fca9965b-dcea-466b-9194-83960f95f64b",
   "metadata": {},
   "source": [
    "# Incremental Machine Learning with River"
   ]
  },
  {
   "cell_type": "code",
   "execution_count": 1,
   "id": "723891b6-58a5-4a2a-b21c-ab9581096511",
   "metadata": {},
   "outputs": [],
   "source": [
    "import river\n",
    "import pandas as pd"
   ]
  },
  {
   "cell_type": "code",
   "execution_count": 2,
   "id": "322dab60-ea7e-468b-b1a1-54c4713ceadb",
   "metadata": {},
   "outputs": [
    {
     "data": {
      "text/plain": [
       "['__builtins__',\n",
       " '__cached__',\n",
       " '__doc__',\n",
       " '__file__',\n",
       " '__loader__',\n",
       " '__name__',\n",
       " '__package__',\n",
       " '__path__',\n",
       " '__spec__',\n",
       " '__version__',\n",
       " 'annotations']"
      ]
     },
     "execution_count": 2,
     "metadata": {},
     "output_type": "execute_result"
    }
   ],
   "source": [
    "dir(river)"
   ]
  },
  {
   "cell_type": "code",
   "execution_count": 3,
   "id": "e0b8688e-764f-4dee-95fd-4107ef3ffc20",
   "metadata": {},
   "outputs": [],
   "source": [
    "from river.linear_model import LogisticRegression\n",
    "from river.naive_bayes import MultinomialNB\n",
    "from river.feature_extraction import BagOfWords,TFIDF"
   ]
  },
  {
   "cell_type": "markdown",
   "id": "dba760bd-b555-4bf4-a017-981876ab526a",
   "metadata": {},
   "source": [
    "## Load Estimators"
   ]
  },
  {
   "cell_type": "code",
   "execution_count": 5,
   "id": "b722a5a1-b0cc-4a1b-91b3-2ad4c63b6041",
   "metadata": {},
   "outputs": [],
   "source": [
    "def get_all_attributes(package):\n",
    "    subpackages = []\n",
    "    submodules = []\n",
    "    for i in dir(package):\n",
    "        if str(i) not in [\"__all__\", \"__builtins__\", \"__cached__\", \"__doc__\", \"__file__\", \"__loader__\", \"__name__\", \"__package__\", \"__path__\", \"__pdoc__\", \"__spec__\", \"__version__\"]:\n",
    "            subpackages.append(i)\n",
    "            res = [j for j in dir(eval(\"river.{}\".format(i)))]\n",
    "            submodules.append(res)\n",
    "    df = pd.DataFrame(submodules)\n",
    "    # Transpose\n",
    "    df = df.T\n",
    "    df.columns = subpackages\n",
    "    res_df = df.dropna()\n",
    "    return res_df"
   ]
  },
  {
   "cell_type": "code",
   "execution_count": 6,
   "id": "b9f049c7-4378-4d46-baee-b5f51893bfd2",
   "metadata": {},
   "outputs": [],
   "source": [
    "river_df = get_all_attributes(river)"
   ]
  },
  {
   "cell_type": "code",
   "execution_count": 7,
   "id": "d81bd393-92af-40f4-9dd3-b526f4e109d8",
   "metadata": {},
   "outputs": [
    {
     "data": {
      "text/html": [
       "<div>\n",
       "<style scoped>\n",
       "    .dataframe tbody tr th:only-of-type {\n",
       "        vertical-align: middle;\n",
       "    }\n",
       "\n",
       "    .dataframe tbody tr th {\n",
       "        vertical-align: top;\n",
       "    }\n",
       "\n",
       "    .dataframe thead th {\n",
       "        text-align: right;\n",
       "    }\n",
       "</style>\n",
       "<table border=\"1\" class=\"dataframe\">\n",
       "  <thead>\n",
       "    <tr style=\"text-align: right;\">\n",
       "      <th></th>\n",
       "      <th>annotations</th>\n",
       "      <th>base</th>\n",
       "      <th>covariance</th>\n",
       "      <th>feature_extraction</th>\n",
       "      <th>linear_model</th>\n",
       "      <th>naive_bayes</th>\n",
       "      <th>optim</th>\n",
       "      <th>proba</th>\n",
       "      <th>stats</th>\n",
       "      <th>utils</th>\n",
       "    </tr>\n",
       "  </thead>\n",
       "  <tbody>\n",
       "    <tr>\n",
       "      <th>0</th>\n",
       "      <td>__class__</td>\n",
       "      <td>Base</td>\n",
       "      <td>EmpiricalCovariance</td>\n",
       "      <td>Agg</td>\n",
       "      <td>ALMAClassifier</td>\n",
       "      <td>BernoulliNB</td>\n",
       "      <td>AMSGrad</td>\n",
       "      <td>Beta</td>\n",
       "      <td>AbsMax</td>\n",
       "      <td>Rolling</td>\n",
       "    </tr>\n",
       "    <tr>\n",
       "      <th>1</th>\n",
       "      <td>__delattr__</td>\n",
       "      <td>BinaryDriftAndWarningDetector</td>\n",
       "      <td>EmpiricalPrecision</td>\n",
       "      <td>BagOfWords</td>\n",
       "      <td>BayesianLinearRegression</td>\n",
       "      <td>ComplementNB</td>\n",
       "      <td>AdaBound</td>\n",
       "      <td>Gaussian</td>\n",
       "      <td>AutoCorr</td>\n",
       "      <td>SortedWindow</td>\n",
       "    </tr>\n",
       "    <tr>\n",
       "      <th>2</th>\n",
       "      <td>__dict__</td>\n",
       "      <td>BinaryDriftDetector</td>\n",
       "      <td>__all__</td>\n",
       "      <td>PolynomialExtender</td>\n",
       "      <td>LinearRegression</td>\n",
       "      <td>GaussianNB</td>\n",
       "      <td>AdaDelta</td>\n",
       "      <td>Multinomial</td>\n",
       "      <td>BayesianMean</td>\n",
       "      <td>TimeRolling</td>\n",
       "    </tr>\n",
       "    <tr>\n",
       "      <th>3</th>\n",
       "      <td>__dir__</td>\n",
       "      <td>Classifier</td>\n",
       "      <td>__builtins__</td>\n",
       "      <td>RBFSampler</td>\n",
       "      <td>LogisticRegression</td>\n",
       "      <td>MultinomialNB</td>\n",
       "      <td>AdaGrad</td>\n",
       "      <td>MultivariateGaussian</td>\n",
       "      <td>Count</td>\n",
       "      <td>VectorDict</td>\n",
       "    </tr>\n",
       "    <tr>\n",
       "      <th>4</th>\n",
       "      <td>__doc__</td>\n",
       "      <td>Clusterer</td>\n",
       "      <td>__cached__</td>\n",
       "      <td>TFIDF</td>\n",
       "      <td>PAClassifier</td>\n",
       "      <td>__all__</td>\n",
       "      <td>AdaMax</td>\n",
       "      <td>__all__</td>\n",
       "      <td>Cov</td>\n",
       "      <td>__all__</td>\n",
       "    </tr>\n",
       "    <tr>\n",
       "      <th>5</th>\n",
       "      <td>__eq__</td>\n",
       "      <td>DriftAndWarningDetector</td>\n",
       "      <td>__doc__</td>\n",
       "      <td>TargetAgg</td>\n",
       "      <td>PARegressor</td>\n",
       "      <td>__builtins__</td>\n",
       "      <td>Adam</td>\n",
       "      <td>__builtins__</td>\n",
       "      <td>EWMean</td>\n",
       "      <td>__builtins__</td>\n",
       "    </tr>\n",
       "    <tr>\n",
       "      <th>6</th>\n",
       "      <td>__format__</td>\n",
       "      <td>DriftDetector</td>\n",
       "      <td>__file__</td>\n",
       "      <td>__all__</td>\n",
       "      <td>Perceptron</td>\n",
       "      <td>__cached__</td>\n",
       "      <td>Averager</td>\n",
       "      <td>__cached__</td>\n",
       "      <td>EWVar</td>\n",
       "      <td>__cached__</td>\n",
       "    </tr>\n",
       "    <tr>\n",
       "      <th>7</th>\n",
       "      <td>__ge__</td>\n",
       "      <td>Ensemble</td>\n",
       "      <td>__loader__</td>\n",
       "      <td>__builtins__</td>\n",
       "      <td>SoftmaxRegression</td>\n",
       "      <td>__doc__</td>\n",
       "      <td>FTRLProximal</td>\n",
       "      <td>__doc__</td>\n",
       "      <td>Entropy</td>\n",
       "      <td>__doc__</td>\n",
       "    </tr>\n",
       "    <tr>\n",
       "      <th>8</th>\n",
       "      <td>__getattribute__</td>\n",
       "      <td>Estimator</td>\n",
       "      <td>__name__</td>\n",
       "      <td>__cached__</td>\n",
       "      <td>__all__</td>\n",
       "      <td>__file__</td>\n",
       "      <td>Momentum</td>\n",
       "      <td>__file__</td>\n",
       "      <td>IQR</td>\n",
       "      <td>__file__</td>\n",
       "    </tr>\n",
       "    <tr>\n",
       "      <th>9</th>\n",
       "      <td>__gt__</td>\n",
       "      <td>MiniBatchClassifier</td>\n",
       "      <td>__package__</td>\n",
       "      <td>__doc__</td>\n",
       "      <td>__builtins__</td>\n",
       "      <td>__loader__</td>\n",
       "      <td>Nadam</td>\n",
       "      <td>__loader__</td>\n",
       "      <td>KolmogorovSmirnov</td>\n",
       "      <td>__loader__</td>\n",
       "    </tr>\n",
       "    <tr>\n",
       "      <th>10</th>\n",
       "      <td>__hash__</td>\n",
       "      <td>MiniBatchRegressor</td>\n",
       "      <td>__path__</td>\n",
       "      <td>__file__</td>\n",
       "      <td>__cached__</td>\n",
       "      <td>__name__</td>\n",
       "      <td>NesterovMomentum</td>\n",
       "      <td>__name__</td>\n",
       "      <td>Kurtosis</td>\n",
       "      <td>__name__</td>\n",
       "    </tr>\n",
       "    <tr>\n",
       "      <th>11</th>\n",
       "      <td>__init__</td>\n",
       "      <td>MiniBatchSupervisedTransformer</td>\n",
       "      <td>__spec__</td>\n",
       "      <td>__loader__</td>\n",
       "      <td>__doc__</td>\n",
       "      <td>__package__</td>\n",
       "      <td>RMSProp</td>\n",
       "      <td>__package__</td>\n",
       "      <td>Link</td>\n",
       "      <td>__package__</td>\n",
       "    </tr>\n",
       "    <tr>\n",
       "      <th>12</th>\n",
       "      <td>__init_subclass__</td>\n",
       "      <td>MiniBatchTransformer</td>\n",
       "      <td>annotations</td>\n",
       "      <td>__name__</td>\n",
       "      <td>__file__</td>\n",
       "      <td>__path__</td>\n",
       "      <td>SGD</td>\n",
       "      <td>__path__</td>\n",
       "      <td>MAD</td>\n",
       "      <td>__path__</td>\n",
       "    </tr>\n",
       "    <tr>\n",
       "      <th>13</th>\n",
       "      <td>__le__</td>\n",
       "      <td>MultiLabelClassifier</td>\n",
       "      <td>emp</td>\n",
       "      <td>__package__</td>\n",
       "      <td>__loader__</td>\n",
       "      <td>__spec__</td>\n",
       "      <td>__all__</td>\n",
       "      <td>__spec__</td>\n",
       "      <td>Max</td>\n",
       "      <td>__spec__</td>\n",
       "    </tr>\n",
       "  </tbody>\n",
       "</table>\n",
       "</div>"
      ],
      "text/plain": [
       "          annotations                            base           covariance  \\\n",
       "0           __class__                            Base  EmpiricalCovariance   \n",
       "1         __delattr__   BinaryDriftAndWarningDetector   EmpiricalPrecision   \n",
       "2            __dict__             BinaryDriftDetector              __all__   \n",
       "3             __dir__                      Classifier         __builtins__   \n",
       "4             __doc__                       Clusterer           __cached__   \n",
       "5              __eq__         DriftAndWarningDetector              __doc__   \n",
       "6          __format__                   DriftDetector             __file__   \n",
       "7              __ge__                        Ensemble           __loader__   \n",
       "8    __getattribute__                       Estimator             __name__   \n",
       "9              __gt__             MiniBatchClassifier          __package__   \n",
       "10           __hash__              MiniBatchRegressor             __path__   \n",
       "11           __init__  MiniBatchSupervisedTransformer             __spec__   \n",
       "12  __init_subclass__            MiniBatchTransformer          annotations   \n",
       "13             __le__            MultiLabelClassifier                  emp   \n",
       "\n",
       "    feature_extraction              linear_model    naive_bayes  \\\n",
       "0                  Agg            ALMAClassifier    BernoulliNB   \n",
       "1           BagOfWords  BayesianLinearRegression   ComplementNB   \n",
       "2   PolynomialExtender          LinearRegression     GaussianNB   \n",
       "3           RBFSampler        LogisticRegression  MultinomialNB   \n",
       "4                TFIDF              PAClassifier        __all__   \n",
       "5            TargetAgg               PARegressor   __builtins__   \n",
       "6              __all__                Perceptron     __cached__   \n",
       "7         __builtins__         SoftmaxRegression        __doc__   \n",
       "8           __cached__                   __all__       __file__   \n",
       "9              __doc__              __builtins__     __loader__   \n",
       "10            __file__                __cached__       __name__   \n",
       "11          __loader__                   __doc__    __package__   \n",
       "12            __name__                  __file__       __path__   \n",
       "13         __package__                __loader__       __spec__   \n",
       "\n",
       "               optim                 proba              stats         utils  \n",
       "0            AMSGrad                  Beta             AbsMax       Rolling  \n",
       "1           AdaBound              Gaussian           AutoCorr  SortedWindow  \n",
       "2           AdaDelta           Multinomial       BayesianMean   TimeRolling  \n",
       "3            AdaGrad  MultivariateGaussian              Count    VectorDict  \n",
       "4             AdaMax               __all__                Cov       __all__  \n",
       "5               Adam          __builtins__             EWMean  __builtins__  \n",
       "6           Averager            __cached__              EWVar    __cached__  \n",
       "7       FTRLProximal               __doc__            Entropy       __doc__  \n",
       "8           Momentum              __file__                IQR      __file__  \n",
       "9              Nadam            __loader__  KolmogorovSmirnov    __loader__  \n",
       "10  NesterovMomentum              __name__           Kurtosis      __name__  \n",
       "11           RMSProp           __package__               Link   __package__  \n",
       "12               SGD              __path__                MAD      __path__  \n",
       "13           __all__              __spec__                Max      __spec__  "
      ]
     },
     "execution_count": 7,
     "metadata": {},
     "output_type": "execute_result"
    }
   ],
   "source": [
    "river_df"
   ]
  },
  {
   "cell_type": "markdown",
   "id": "b7e17273-90c6-432a-b2ed-d9734a797529",
   "metadata": {},
   "source": [
    "#### Requirement\n",
    "+ list of tuple\n",
    "+ dictionary\n",
    "+ CSV\n",
    "    - list of tuples or dictionary record\n",
    "    - iter_csv\n",
    "    - iter_pandas"
   ]
  },
  {
   "cell_type": "code",
   "execution_count": 8,
   "id": "6280d3f2-f922-4f79-8545-50322d054b23",
   "metadata": {},
   "outputs": [],
   "source": [
    "### Data: Predict if a text if hardware or software related\n",
    "data = [(\"my unit test failed\",\"software\"),\n",
    "(\"tried the program, but it was buggy\",\"software\"),\n",
    "(\"i need a new power supply\",\"hardware\"),\n",
    "(\"the drive has a 2TB capacity\",\"hardware\"),\n",
    "(\"unit-tests\",\"software\"),\n",
    "(\"program\",\"software\"),\n",
    "(\"power supply\",\"hardware\"),\n",
    "(\"drive\",\"hardware\"),\n",
    "(\"it needs more memory\",\"hardware\"),\n",
    "(\"check the API\",\"software\"),\n",
    "(\"design the API\",\"software\"),\n",
    "(\"they need more CPU\",\"hardware\"),\n",
    "(\"code\",\"software\"),\n",
    "(\"i found some bugs in the code\",\"software\"),\n",
    "(\"i swapped the memory\",\"hardware\"),\n",
    "(\"i tested the code\",\"software\")]\n",
    "\n",
    "test_data = [('he writes code daily','software'), \n",
    "             ('the disk is faulty','hardware'), \n",
    "             (\"refactor the code\",\"software\"),\n",
    "             ('no empty space on the drive','hardware')]"
   ]
  },
  {
   "cell_type": "markdown",
   "id": "c7e44004-70a5-418c-ad0e-99929d5813cd",
   "metadata": {},
   "source": [
    "### Text classification\n",
    "+ vectorized the text\n",
    "  - CountVectorizer/ BagOfWords\n",
    "  - TFIDF\n",
    "+ build model on the go"
   ]
  },
  {
   "cell_type": "markdown",
   "id": "481274c6-d7de-43ef-8f41-8c8f3a8811c5",
   "metadata": {},
   "source": [
    "## Make a Pipeline"
   ]
  },
  {
   "cell_type": "code",
   "execution_count": 14,
   "id": "bcc71ad7-a947-4f06-b85a-ed0ea4e4e8be",
   "metadata": {},
   "outputs": [],
   "source": [
    "# from river.compose import Pipeline\n",
    "from river import compose"
   ]
  },
  {
   "cell_type": "code",
   "execution_count": 18,
   "id": "934e4d31-9673-4373-a269-6af684fdc5fd",
   "metadata": {},
   "outputs": [],
   "source": [
    "from river.compose import Pipeline"
   ]
  },
  {
   "cell_type": "code",
   "execution_count": 19,
   "id": "a92bae00-94b1-4c59-872a-80cc673c66bf",
   "metadata": {},
   "outputs": [],
   "source": [
    "pipe_nb = Pipeline(('vectorizer', BagOfWords(lowercase=True)),('nb', MultinomialNB()))\n",
    "\n",
    "# pipe_nb = compose.Pipeline(\n",
    "#     ('vectorizer', BagOfWords(lowercase=True)),\n",
    "#     ('nb', MultinomialNB())\n",
    "# )"
   ]
  },
  {
   "cell_type": "markdown",
   "id": "af7d50d3-217f-433b-aec7-63473f34fffa",
   "metadata": {},
   "source": [
    "### Vizualize pipeline"
   ]
  },
  {
   "cell_type": "code",
   "execution_count": 11,
   "id": "430a8baf-73aa-4691-9fdd-f829e4332a7b",
   "metadata": {},
   "outputs": [
    {
     "data": {
      "text/html": [
       "<div><div class=\"river-component river-pipeline\"><details class=\"river-component river-estimator\"><summary class=\"river-summary\"><pre class=\"river-estimator-name\">BagOfWords</pre></summary><code class=\"river-estimator-params\">BagOfWords (\n",
       "  on=None\n",
       "  strip_accents=True\n",
       "  lowercase=True\n",
       "  preprocessor=None\n",
       "  stop_words=None\n",
       "  tokenizer_pattern=\"(?u)\\b\\w[\\w\\-]+\\b\"\n",
       "  tokenizer=None\n",
       "  ngram_range=(1, 1)\n",
       ")\n",
       "</code></details><details class=\"river-component river-estimator\"><summary class=\"river-summary\"><pre class=\"river-estimator-name\">MultinomialNB</pre></summary><code class=\"river-estimator-params\">MultinomialNB (\n",
       "  alpha=1.\n",
       ")\n",
       "</code></details></div><style scoped>\n",
       ".river-estimator {\n",
       "    padding: 1em;\n",
       "    border-style: solid;\n",
       "    background: white;\n",
       "    max-width: max-content;\n",
       "}\n",
       "\n",
       ".river-pipeline {\n",
       "    display: flex;\n",
       "    flex-direction: column;\n",
       "    align-items: center;\n",
       "    background: linear-gradient(#000, #000) no-repeat center / 1.5px 100%;\n",
       "}\n",
       "\n",
       ".river-union {\n",
       "    display: flex;\n",
       "    flex-direction: row;\n",
       "    align-items: center;\n",
       "    justify-content: center;\n",
       "    padding: 1em;\n",
       "    border-style: solid;\n",
       "    background: white;\n",
       "}\n",
       "\n",
       ".river-wrapper {\n",
       "    display: flex;\n",
       "    flex-direction: column;\n",
       "    align-items: center;\n",
       "    justify-content: center;\n",
       "    padding: 1em;\n",
       "    border-style: solid;\n",
       "    background: white;\n",
       "}\n",
       "\n",
       ".river-wrapper > .river-estimator {\n",
       "    margin-top: 1em;\n",
       "}\n",
       "\n",
       "/* Vertical spacing between steps */\n",
       "\n",
       ".river-component + .river-component {\n",
       "    margin-top: 2em;\n",
       "}\n",
       "\n",
       ".river-union > .river-estimator {\n",
       "    margin-top: 0;\n",
       "}\n",
       "\n",
       ".river-union > .river-component {\n",
       "    margin-top: 0;\n",
       "}\n",
       "\n",
       ".river-union > .pipeline {\n",
       "    margin-top: 0;\n",
       "}\n",
       "\n",
       "/* Spacing within a union of estimators */\n",
       "\n",
       ".river-union > .river-component + .river-component {\n",
       "    margin-left: 1em;\n",
       "}\n",
       "\n",
       "/* Typography */\n",
       "\n",
       ".river-estimator-params {\n",
       "    display: block;\n",
       "    white-space: pre-wrap;\n",
       "    font-size: 110%;\n",
       "    margin-top: 1em;\n",
       "}\n",
       "\n",
       ".river-estimator > .river-estimator-params,\n",
       ".river-wrapper > .river-details > river-estimator-params {\n",
       "    background-color: white !important;\n",
       "}\n",
       "\n",
       ".river-wrapper > .river-details {\n",
       "    margin-bottom: 1em;\n",
       "}\n",
       "\n",
       ".river-estimator-name {\n",
       "    display: inline;\n",
       "    margin: 0;\n",
       "    font-size: 110%;\n",
       "}\n",
       "\n",
       "/* Toggle */\n",
       "\n",
       ".river-summary {\n",
       "    display: flex;\n",
       "    align-items:center;\n",
       "    cursor: pointer;\n",
       "}\n",
       "\n",
       ".river-summary > div {\n",
       "    width: 100%;\n",
       "}\n",
       "</style></div>"
      ],
      "text/plain": [
       "Pipeline (\n",
       "  BagOfWords (\n",
       "    on=None\n",
       "    strip_accents=True\n",
       "    lowercase=True\n",
       "    preprocessor=None\n",
       "    stop_words=None\n",
       "    tokenizer_pattern=\"(?u)\\b\\w[\\w\\-]+\\b\"\n",
       "    tokenizer=None\n",
       "    ngram_range=(1, 1)\n",
       "  ),\n",
       "  MultinomialNB (\n",
       "    alpha=1.\n",
       "  )\n",
       ")"
      ]
     },
     "execution_count": 11,
     "metadata": {},
     "output_type": "execute_result"
    }
   ],
   "source": [
    "pipe_nb"
   ]
  },
  {
   "cell_type": "code",
   "execution_count": 12,
   "id": "947294c2-ac51-4e63-84f0-11d64edaee57",
   "metadata": {},
   "outputs": [
    {
     "data": {
      "text/plain": [
       "OrderedDict([('vectorizer',\n",
       "              BagOfWords (\n",
       "                on=None\n",
       "                strip_accents=True\n",
       "                lowercase=True\n",
       "                preprocessor=None\n",
       "                stop_words=None\n",
       "                tokenizer_pattern=\"(?u)\\b\\w[\\w\\-]+\\b\"\n",
       "                tokenizer=None\n",
       "                ngram_range=(1, 1)\n",
       "              )),\n",
       "             ('nb',\n",
       "              MultinomialNB (\n",
       "                alpha=1.\n",
       "              ))])"
      ]
     },
     "execution_count": 12,
     "metadata": {},
     "output_type": "execute_result"
    }
   ],
   "source": [
    "# Get steps\n",
    "pipe_nb.steps"
   ]
  },
  {
   "cell_type": "markdown",
   "id": "7ff208d1-79da-4de0-bda2-d7ecca94cdc7",
   "metadata": {},
   "source": [
    "### Fit on data\n",
    "\n",
    "+ Learn one at a time\n",
    "    - learn one(for river) / fit one(for creme)\n",
    "    - predict one"
   ]
  },
  {
   "cell_type": "code",
   "execution_count": 20,
   "id": "f2129b94-2a3c-4e67-8e6e-d031b3248874",
   "metadata": {},
   "outputs": [],
   "source": [
    "# for text,label in data:\n",
    "#     # print(text)\n",
    "#     # print(label)\n",
    "#     pipe_nb = pipe_nb.learn_one(text, label)\n",
    "\n",
    "for text, label in data:\n",
    "    pipe_nb.learn_one(text, label)"
   ]
  },
  {
   "cell_type": "code",
   "execution_count": 22,
   "id": "c3c8e8da-9268-45c4-a6d0-885bf9a85dd2",
   "metadata": {},
   "outputs": [
    {
     "data": {
      "text/plain": [
       "'software'"
      ]
     },
     "execution_count": 22,
     "metadata": {},
     "output_type": "execute_result"
    }
   ],
   "source": [
    "# make prediction\n",
    "pipe_nb.predict_one(\"I built an API\")"
   ]
  },
  {
   "cell_type": "code",
   "execution_count": 23,
   "id": "e86c1711-7579-49d5-aa4d-920caea7caef",
   "metadata": {},
   "outputs": [
    {
     "data": {
      "text/plain": [
       "'software'"
      ]
     },
     "execution_count": 23,
     "metadata": {},
     "output_type": "execute_result"
    }
   ],
   "source": [
    "# other\n",
    "pipe_nb.predict_one(\"the hard drive in the computer is damaged\")"
   ]
  },
  {
   "cell_type": "markdown",
   "id": "ab729148-7b16-4fdf-acfe-2bf9947746e9",
   "metadata": {},
   "source": [
    "### Predict probability"
   ]
  },
  {
   "cell_type": "code",
   "execution_count": 27,
   "id": "696a57af-fb4f-4f98-8740-cf975e9dbf6f",
   "metadata": {},
   "outputs": [
    {
     "data": {
      "text/plain": [
       "{'software': 0.7416584917539436, 'hardware': 0.2583415082460559}"
      ]
     },
     "execution_count": 27,
     "metadata": {},
     "output_type": "execute_result"
    }
   ],
   "source": [
    "#prob\n",
    "pipe_nb.predict_proba_one(\"I built an API\")"
   ]
  },
  {
   "cell_type": "code",
   "execution_count": 28,
   "id": "9476567f-ad39-40c7-803c-b75482842a59",
   "metadata": {},
   "outputs": [
    {
     "data": {
      "text/plain": [
       "{'software': 0.6093600696209751, 'hardware': 0.39063993037902633}"
      ]
     },
     "execution_count": 28,
     "metadata": {},
     "output_type": "execute_result"
    }
   ],
   "source": [
    "#other\n",
    "pipe_nb.predict_proba_one(\"the hard drive in the computer is damaged\")"
   ]
  },
  {
   "cell_type": "markdown",
   "id": "be8bdf3d-89a2-49d9-878a-249651e9755f",
   "metadata": {},
   "source": [
    "### Evaluate & classification\n",
    "+ Accuracy\n",
    "+ Precision/ F1, Recall on a prediction"
   ]
  },
  {
   "cell_type": "code",
   "execution_count": 29,
   "id": "eb47ce24-a05f-469d-99d4-f5c4b3215469",
   "metadata": {},
   "outputs": [
    {
     "data": {
      "text/plain": [
       "[('he writes code daily', 'software'),\n",
       " ('the disk is faulty', 'hardware'),\n",
       " ('refactor the code', 'software'),\n",
       " ('no empty space on the drive', 'hardware')]"
      ]
     },
     "execution_count": 29,
     "metadata": {},
     "output_type": "execute_result"
    }
   ],
   "source": [
    "test_data"
   ]
  },
  {
   "cell_type": "code",
   "execution_count": 32,
   "id": "34fd17b6-7cdc-496f-ade6-3e2c8d13b30a",
   "metadata": {},
   "outputs": [
    {
     "name": "stdout",
     "output_type": "stream",
     "text": [
      "he writes code daily: software\n",
      "the disk is faulty: software\n",
      "refactor the code: software\n",
      "no empty space on the drive: hardware\n"
     ]
    }
   ],
   "source": [
    "y_pred = []\n",
    "for x,y in test_data:\n",
    "    print(x + \": \" + pipe_nb.predict_one(x))\n",
    "\n",
    "    res = pipe_nb.predict_one(x)\n",
    "    y_pred.append(res)"
   ]
  },
  {
   "cell_type": "code",
   "execution_count": 42,
   "id": "e0c275ff-2dad-41c5-9f39-51056dd9b081",
   "metadata": {},
   "outputs": [],
   "source": [
    "# Classification\n",
    "from river import metrics"
   ]
  },
  {
   "cell_type": "code",
   "execution_count": 43,
   "id": "09dc06ae-bf6e-4066-a216-3d334a468682",
   "metadata": {},
   "outputs": [],
   "source": [
    "report = metrics.ClassificationReport()"
   ]
  },
  {
   "cell_type": "code",
   "execution_count": 44,
   "id": "048d9532-7f2d-4cb5-820f-d21824a15b99",
   "metadata": {},
   "outputs": [
    {
     "name": "stdout",
     "output_type": "stream",
     "text": [
      "he writes code daily: software\n",
      "the disk is faulty: software\n",
      "refactor the code: software\n",
      "no empty space on the drive: hardware\n"
     ]
    }
   ],
   "source": [
    "# get y truely test\n",
    "y_pred = []\n",
    "y_test = []\n",
    "for x,y in test_data:\n",
    "    print(x + \": \" + pipe_nb.predict_one(x))\n",
    "\n",
    "    res = pipe_nb.predict_one(x)\n",
    "    y_pred.append(res)\n",
    "    y_test.append(y)"
   ]
  },
  {
   "cell_type": "code",
   "execution_count": 36,
   "id": "2c64a17d-6f71-46a8-9de5-91829618bd14",
   "metadata": {},
   "outputs": [
    {
     "name": "stdout",
     "output_type": "stream",
     "text": [
      "['software', 'hardware', 'software', 'hardware']\n",
      "['software', 'software', 'software', 'hardware']\n"
     ]
    }
   ],
   "source": [
    "print(y_test)\n",
    "print(y_pred)"
   ]
  },
  {
   "cell_type": "code",
   "execution_count": 45,
   "id": "86bfb662-8a63-4d7d-91dc-0ce76fcaf0d6",
   "metadata": {},
   "outputs": [],
   "source": [
    "for yt,yp in zip(y_test, y_pred):\n",
    "    report.update(yt,yp)"
   ]
  },
  {
   "cell_type": "code",
   "execution_count": 46,
   "id": "3f8ff8ab-f919-43c4-a122-819c2c78196e",
   "metadata": {},
   "outputs": [
    {
     "name": "stdout",
     "output_type": "stream",
     "text": [
      "           Precision   Recall    F1       Support  \n",
      "                                                   \n",
      "hardware     100.00%    50.00%   66.67%         2  \n",
      "software      66.67%   100.00%   80.00%         2  \n",
      "                                                   \n",
      "   Macro      83.33%    75.00%   73.33%            \n",
      "   Micro      75.00%    75.00%   75.00%            \n",
      "Weighted      83.33%    75.00%   73.33%            \n",
      "\n",
      "                  75.00% accuracy                  \n"
     ]
    }
   ],
   "source": [
    "print(report)"
   ]
  },
  {
   "cell_type": "code",
   "execution_count": 54,
   "id": "70417e7b-9372-4a48-91c7-7a6daf892be2",
   "metadata": {},
   "outputs": [],
   "source": [
    "# update the model on test data & check accuracy\n",
    "metric = river.metrics.Accuracy()\n",
    "for text,label in test_data:\n",
    "    # print label\n",
    "    y_pred_before = pipe_nb.predict_one(text)\n",
    "    metric.update(label, y_pred_before)\n",
    "    pipe_nb.learn_one(text, label)"
   ]
  },
  {
   "cell_type": "code",
   "execution_count": 55,
   "id": "065bed0d-9590-44d8-87ba-8b97265cc986",
   "metadata": {},
   "outputs": [
    {
     "data": {
      "text/plain": [
       "Accuracy: 100.00%"
      ]
     },
     "execution_count": 55,
     "metadata": {},
     "output_type": "execute_result"
    }
   ],
   "source": [
    "metric"
   ]
  },
  {
   "cell_type": "code",
   "execution_count": 56,
   "id": "0c9eac7e-7047-4e05-b1fb-90a146a92ce7",
   "metadata": {},
   "outputs": [],
   "source": [
    "# update the model & check accuracy\n",
    "metric2 = river.metrics.Accuracy()\n",
    "for text,label in data:\n",
    "    # print label\n",
    "    y_pred_before = pipe_nb.predict_one(text)\n",
    "    metric2.update(label, y_pred_before)\n",
    "    pipe_nb.learn_one(text, label)"
   ]
  },
  {
   "cell_type": "code",
   "execution_count": 57,
   "id": "4b705c89-f90e-42b7-a274-ff40ce529959",
   "metadata": {},
   "outputs": [
    {
     "data": {
      "text/plain": [
       "Accuracy: 100.00%"
      ]
     },
     "execution_count": 57,
     "metadata": {},
     "output_type": "execute_result"
    }
   ],
   "source": [
    "metric2"
   ]
  }
 ],
 "metadata": {
  "kernelspec": {
   "display_name": "Python 3 (ipykernel)",
   "language": "python",
   "name": "python3"
  },
  "language_info": {
   "codemirror_mode": {
    "name": "ipython",
    "version": 3
   },
   "file_extension": ".py",
   "mimetype": "text/x-python",
   "name": "python",
   "nbconvert_exporter": "python",
   "pygments_lexer": "ipython3",
   "version": "3.9.7"
  }
 },
 "nbformat": 4,
 "nbformat_minor": 5
}
