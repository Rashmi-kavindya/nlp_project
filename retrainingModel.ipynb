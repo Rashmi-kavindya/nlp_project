{
 "cells": [
  {
   "cell_type": "code",
   "execution_count": 1,
   "id": "4042f796-3bbc-4c97-ab9a-20f569863eb4",
   "metadata": {},
   "outputs": [],
   "source": [
    "# Import necessary libraries from River\n",
    "import river"
   ]
  },
  {
   "cell_type": "code",
   "execution_count": 2,
   "id": "f078c0c2-6c24-4427-a0c2-dbbc6edb02ef",
   "metadata": {},
   "outputs": [],
   "source": [
    "from river import compose\n",
    "from river.feature_extraction import BagOfWords\n",
    "from river.naive_bayes import MultinomialNB"
   ]
  },
  {
   "cell_type": "code",
   "execution_count": 3,
   "id": "475c8c87-77c6-4125-8e91-298596debe60",
   "metadata": {},
   "outputs": [],
   "source": [
    "# Sample data for training (text, label pairs)\n",
    "data = [\n",
    "    ('Chinese Beijing Chinese', 'yes'),\n",
    "    ('Chinese Chinese Shanghai', 'yes'),\n",
    "    ('Chinese Macao', 'yes'),\n",
    "    ('Tokyo Japan Chinese', 'no'),\n",
    "]"
   ]
  },
  {
   "cell_type": "code",
   "execution_count": 4,
   "id": "bc19d51a-cfaf-4066-b9ea-8407c84bdc93",
   "metadata": {},
   "outputs": [
    {
     "name": "stdout",
     "output_type": "stream",
     "text": [
      "{'this': 0.4472135954999579, 'is': 0.4472135954999579, 'the': 0.4472135954999579, 'first': 0.4472135954999579, 'document': 0.4472135954999579}\n",
      "{'this': 0.35355339059327373, 'document': 0.7071067811865475, 'is': 0.35355339059327373, 'the': 0.35355339059327373, 'second': 0.35355339059327373}\n",
      "{'and': 0.408248290463863, 'this': 0.408248290463863, 'is': 0.408248290463863, 'the': 0.408248290463863, 'third': 0.408248290463863, 'one': 0.408248290463863}\n",
      "{'is': 0.4472135954999579, 'this': 0.4472135954999579, 'the': 0.4472135954999579, 'first': 0.4472135954999579, 'document': 0.4472135954999579}\n"
     ]
    }
   ],
   "source": [
    "### This is just an example\n",
    "corpus = [\n",
    "         'This is the first document.',\n",
    "        'This document is the second document.',\n",
    "        'And this is the third one.',\n",
    "        'Is this the first document?',\n",
    "    ]\n",
    "bow = river.feature_extraction.TFIDF()\n",
    "for sentence in corpus:\n",
    "    print(bow.transform_one(sentence))"
   ]
  },
  {
   "cell_type": "code",
   "execution_count": 5,
   "id": "2d674df6-f278-406c-b219-f4d1ed3f3737",
   "metadata": {},
   "outputs": [],
   "source": [
    "from river.compose import Pipeline"
   ]
  },
  {
   "cell_type": "code",
   "execution_count": 6,
   "id": "da883514-986a-4b90-95d4-7bf98cf1b0b9",
   "metadata": {},
   "outputs": [],
   "source": [
    "# Initialize the pipeline with a bag-of-words vectorizer and a Multinomial Naive Bayes classifier\n",
    "pipe_nb = Pipeline(\n",
    "    ('vectorizer', BagOfWords(lowercase=True)),\n",
    "    ('nb', MultinomialNB())\n",
    ")"
   ]
  },
  {
   "cell_type": "code",
   "execution_count": 7,
   "id": "b77796a4-4300-4213-b0f0-504f1566fcc9",
   "metadata": {},
   "outputs": [],
   "source": [
    "# Train the pipeline with the data\n",
    "for sentence, label in data:\n",
    "    pipe_nb.learn_one(sentence, label)"
   ]
  },
  {
   "cell_type": "code",
   "execution_count": 8,
   "id": "fc1a6f30-1ff2-4f84-a4cd-8cf31332831a",
   "metadata": {},
   "outputs": [],
   "source": [
    "new_unseen_text = 'Tokyo india'"
   ]
  },
  {
   "cell_type": "code",
   "execution_count": 9,
   "id": "168d0139-2c4a-48ea-8e8e-1f7177ea82ad",
   "metadata": {},
   "outputs": [
    {
     "data": {
      "text/plain": [
       "'no'"
      ]
     },
     "execution_count": 9,
     "metadata": {},
     "output_type": "execute_result"
    }
   ],
   "source": [
    "pipe_nb.predict_one(new_unseen_text)"
   ]
  },
  {
   "cell_type": "markdown",
   "id": "d01550ea-c8f5-4129-b141-6e470bc3a636",
   "metadata": {},
   "source": [
    "### Training on a new data and new category"
   ]
  },
  {
   "cell_type": "code",
   "execution_count": 10,
   "id": "97d59dc8-2810-4b95-80bf-cfcecbb5d0d6",
   "metadata": {},
   "outputs": [],
   "source": [
    "pipe_nb.learn_one('India USA', 'may be')"
   ]
  },
  {
   "cell_type": "code",
   "execution_count": 11,
   "id": "b2f8030a-b870-474b-bc74-c8009172eeb4",
   "metadata": {},
   "outputs": [
    {
     "data": {
      "text/plain": [
       "'may be'"
      ]
     },
     "execution_count": 11,
     "metadata": {},
     "output_type": "execute_result"
    }
   ],
   "source": [
    "pipe_nb.predict_one('India Germany')"
   ]
  },
  {
   "cell_type": "markdown",
   "id": "2ad8de07-cdf1-4d47-8356-c97744e80028",
   "metadata": {},
   "source": [
    "### River with logistic regression"
   ]
  },
  {
   "cell_type": "code",
   "execution_count": 20,
   "id": "8dd4b989-d6e0-428e-b87b-3744fbc36a08",
   "metadata": {},
   "outputs": [
    {
     "data": {
      "text/plain": [
       "Accuracy: 89.28%"
      ]
     },
     "execution_count": 20,
     "metadata": {},
     "output_type": "execute_result"
    }
   ],
   "source": [
    "from river import compose, datasets, linear_model, metrics, preprocessing\n",
    "from river.compose import Pipeline\n",
    "\n",
    "X_y = datasets.Phishing()\n",
    "\n",
    "model = Pipeline(\n",
    "    preprocessing.StandardScaler(),\n",
    "    linear_model.LogisticRegression()\n",
    ")\n",
    "metric = metrics.Accuracy()\n",
    "\n",
    "for x, y in X_y:\n",
    "    y_pred = model.predict_one(x)\n",
    "    metric.update(y, y_pred)\n",
    "    model.learn_one(x, y)\n",
    "\n",
    "metric"
   ]
  }
 ],
 "metadata": {
  "kernelspec": {
   "display_name": "Python 3 (ipykernel)",
   "language": "python",
   "name": "python3"
  },
  "language_info": {
   "codemirror_mode": {
    "name": "ipython",
    "version": 3
   },
   "file_extension": ".py",
   "mimetype": "text/x-python",
   "name": "python",
   "nbconvert_exporter": "python",
   "pygments_lexer": "ipython3",
   "version": "3.9.7"
  }
 },
 "nbformat": 4,
 "nbformat_minor": 5
}
