{
 "cells": [
  {
   "cell_type": "code",
   "execution_count": 1,
   "id": "0aa58349-8a9b-4d30-a884-a3c2be51a0ed",
   "metadata": {},
   "outputs": [],
   "source": [
    "import math\n",
    "import river\n",
    "from river import compose\n",
    "from river import feature_extraction\n",
    "from river import linear_model"
   ]
  },
  {
   "cell_type": "code",
   "execution_count": 2,
   "id": "d2c0af09-0bb2-41c1-b329-f8ada38bc9c8",
   "metadata": {},
   "outputs": [],
   "source": [
    "model = compose.Pipeline(\n",
    "    ('vectorizer', feature_extraction.TFIDF()),\n",
    "    ('classifier', linear_model.LogisticRegression())\n",
    ")"
   ]
  },
  {
   "cell_type": "code",
   "execution_count": 3,
   "id": "2682719e-7e68-4e36-85c1-7140e5e56f7c",
   "metadata": {},
   "outputs": [],
   "source": [
    "# Mapping string labels to integers\n",
    "label_mapping = {'yes': 1, 'no': 0, 'unknown': 2}"
   ]
  },
  {
   "cell_type": "code",
   "execution_count": 4,
   "id": "7b00913a-1747-4dcf-8bb7-c6879db8cb47",
   "metadata": {},
   "outputs": [],
   "source": [
    "docs = [ ('Chinese Beijing Chinese', 'yes'),\n",
    "        ('Chinese Chinese Shanghai', 'yes'),\n",
    "        ('Chinese Macao', 'yes'),\n",
    "        ('Tokyo Japan Chinese', 'no') ]"
   ]
  },
  {
   "cell_type": "code",
   "execution_count": 5,
   "id": "192d86ed-496f-408a-beb6-eedde7312a7f",
   "metadata": {},
   "outputs": [
    {
     "data": {
      "text/plain": [
       "[('Chinese Beijing Chinese', 'yes'),\n",
       " ('Chinese Chinese Shanghai', 'yes'),\n",
       " ('Chinese Macao', 'yes'),\n",
       " ('Tokyo Japan Chinese', 'no')]"
      ]
     },
     "execution_count": 5,
     "metadata": {},
     "output_type": "execute_result"
    }
   ],
   "source": [
    "docs"
   ]
  },
  {
   "cell_type": "code",
   "execution_count": 6,
   "id": "31d3ce2b-567e-47ef-add1-2b2d6539c5a1",
   "metadata": {},
   "outputs": [],
   "source": [
    "# for sentence, label in docs:\n",
    "#     model = model.learn_one(sentence, label)\n",
    "\n",
    "# Loop through the documents and learn one instance at a time\n",
    "for sentence, label in docs:\n",
    "    # Convert label from string to integer\n",
    "    int_label = label_mapping[label]\n",
    "    \n",
    "    # Learn the model\n",
    "    model.learn_one(sentence, int_label)"
   ]
  },
  {
   "cell_type": "code",
   "execution_count": 7,
   "id": "cdf1d8bc-40b8-43b9-bd04-66a7a862b1c0",
   "metadata": {},
   "outputs": [],
   "source": [
    "new_unseen_text = 'Tokyo india'"
   ]
  },
  {
   "cell_type": "code",
   "execution_count": 8,
   "id": "10ae3e3b-9e5f-4ca2-ba9b-a63e213745ea",
   "metadata": {},
   "outputs": [
    {
     "name": "stdout",
     "output_type": "stream",
     "text": [
      "Prediction for 'Tokyo india': True\n"
     ]
    }
   ],
   "source": [
    "# model.predict_one(new_unseen_text)\n",
    "print(f\"Prediction for '{new_unseen_text}': {model.predict_one(new_unseen_text)}\")"
   ]
  },
  {
   "cell_type": "code",
   "execution_count": 9,
   "id": "14c53579-0fec-44a6-8ad8-4cd9b75dbc0c",
   "metadata": {},
   "outputs": [],
   "source": [
    "model.learn_one('Tokyo India USA', label_mapping['unknown'])"
   ]
  },
  {
   "cell_type": "code",
   "execution_count": 10,
   "id": "bc0f0785-6ee1-4423-87fb-596b5d5d8fb6",
   "metadata": {},
   "outputs": [
    {
     "name": "stdout",
     "output_type": "stream",
     "text": [
      "TFIDF | LogisticRegression\n"
     ]
    }
   ],
   "source": [
    "# Check the model state after learning the new instance\n",
    "print(model)"
   ]
  },
  {
   "cell_type": "code",
   "execution_count": 11,
   "id": "225df7b9-99f2-4696-b1cc-6143b988d8fc",
   "metadata": {},
   "outputs": [
    {
     "name": "stdout",
     "output_type": "stream",
     "text": [
      "Prediction for 'Perhaps Japan': True\n"
     ]
    }
   ],
   "source": [
    "# Predict again after learning the new instance \n",
    "new_unseen_text_2 = 'Perhaps Japan'\n",
    "print(f\"Prediction for '{new_unseen_text_2}': {model.predict_one(new_unseen_text_2)}\")"
   ]
  },
  {
   "cell_type": "code",
   "execution_count": 12,
   "id": "93d8d2eb-7129-46d3-bdb3-dcbdfa38a038",
   "metadata": {},
   "outputs": [],
   "source": [
    "# Pipeline (\n",
    "#     TFIDF (\n",
    "#         on = None\n",
    "#         strip_accents = True\n",
    "#         lowercase = False\n",
    "#         preprocessor = None\n",
    "#         vectorizer = <build-in method findall of re.Pattern object at 0x00000236CF37D5E0>\n",
    "#         ngram_range = (1,1)\n",
    "#     ),\n",
    "#     MultinominalNB (\n",
    "#         alpha = 1\n",
    "#     )\n",
    "# )"
   ]
  },
  {
   "cell_type": "code",
   "execution_count": 13,
   "id": "b704dbfc-dc85-4f9d-9cc8-c95fa8916961",
   "metadata": {},
   "outputs": [],
   "source": [
    "# model.predict_one(\"India Germany\")"
   ]
  }
 ],
 "metadata": {
  "kernelspec": {
   "display_name": "Python 3 (ipykernel)",
   "language": "python",
   "name": "python3"
  },
  "language_info": {
   "codemirror_mode": {
    "name": "ipython",
    "version": 3
   },
   "file_extension": ".py",
   "mimetype": "text/x-python",
   "name": "python",
   "nbconvert_exporter": "python",
   "pygments_lexer": "ipython3",
   "version": "3.9.7"
  }
 },
 "nbformat": 4,
 "nbformat_minor": 5
}
